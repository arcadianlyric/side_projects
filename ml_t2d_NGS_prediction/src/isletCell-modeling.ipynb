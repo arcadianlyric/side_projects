{
 "cells": [
  {
   "cell_type": "markdown",
   "metadata": {},
   "source": [
    "### Predict Type 2 diabetes with genes with top PCA loading\n",
    "by SVM, RandomForest, XGB, Keras and model ensemble"
   ]
  },
  {
   "cell_type": "code",
   "execution_count": 27,
   "metadata": {
    "collapsed": true
   },
   "outputs": [],
   "source": [
    "# this is an early version of sklearn, some names may have changed in later versions\n",
    "import pandas as pd\n",
    "import numpy as np\n",
    "from sklearn.feature_selection import f_classif\n",
    "from sklearn import cross_validation as cv\n",
    "from sklearn import svm\n",
    "from sklearn.grid_search import GridSearchCV\n",
    "from sklearn.ensemble import RandomForestClassifier\n",
    "from sklearn.metrics import recall_score, precision_score, make_scorer, accuracy_score, f1_score\n",
    "from sklearn.metrics import roc_curve, auc, confusion_matrix\n",
    "from xgboost.sklearn import XGBClassifier\n",
    "import matplotlib.pyplot as plt\n",
    "%matplotlib inline\n",
    "import warnings\n",
    "warnings.filterwarnings(\"ignore\") \n"
   ]
  },
  {
   "cell_type": "code",
   "execution_count": 71,
   "metadata": {},
   "outputs": [],
   "source": [
    "### Read in data\n",
    "df = pd.read_csv('../results/top500pcaGene.csv')"
   ]
  },
  {
   "cell_type": "code",
   "execution_count": 3,
   "metadata": {},
   "outputs": [
    {
     "data": {
      "text/html": [
       "<div>\n",
       "<table border=\"1\" class=\"dataframe\">\n",
       "  <thead>\n",
       "    <tr style=\"text-align: right;\">\n",
       "      <th></th>\n",
       "      <th>t2d</th>\n",
       "      <th>3822</th>\n",
       "      <th>35766</th>\n",
       "      <th>3285</th>\n",
       "      <th>1160</th>\n",
       "      <th>1923</th>\n",
       "      <th>3296</th>\n",
       "      <th>3260</th>\n",
       "      <th>8198</th>\n",
       "      <th>3302</th>\n",
       "      <th>...</th>\n",
       "      <th>16146</th>\n",
       "      <th>11922</th>\n",
       "      <th>9406</th>\n",
       "      <th>5287</th>\n",
       "      <th>659</th>\n",
       "      <th>20372</th>\n",
       "      <th>16013</th>\n",
       "      <th>1129</th>\n",
       "      <th>3503</th>\n",
       "      <th>7459</th>\n",
       "    </tr>\n",
       "  </thead>\n",
       "  <tbody>\n",
       "    <tr>\n",
       "      <th>0</th>\n",
       "      <td>0</td>\n",
       "      <td>0.000000</td>\n",
       "      <td>0.000000</td>\n",
       "      <td>0.000000</td>\n",
       "      <td>3.322937</td>\n",
       "      <td>10.815594</td>\n",
       "      <td>4.808866</td>\n",
       "      <td>7.037647</td>\n",
       "      <td>0.0</td>\n",
       "      <td>4.109481</td>\n",
       "      <td>...</td>\n",
       "      <td>0.0</td>\n",
       "      <td>5.075939</td>\n",
       "      <td>4.855219</td>\n",
       "      <td>1.789240</td>\n",
       "      <td>0.0</td>\n",
       "      <td>0.0</td>\n",
       "      <td>4.891742</td>\n",
       "      <td>5.580920</td>\n",
       "      <td>2.386135</td>\n",
       "      <td>0.000000</td>\n",
       "    </tr>\n",
       "    <tr>\n",
       "      <th>1</th>\n",
       "      <td>0</td>\n",
       "      <td>0.000000</td>\n",
       "      <td>3.400627</td>\n",
       "      <td>0.000000</td>\n",
       "      <td>2.284452</td>\n",
       "      <td>11.641512</td>\n",
       "      <td>5.379671</td>\n",
       "      <td>7.540405</td>\n",
       "      <td>0.0</td>\n",
       "      <td>5.365140</td>\n",
       "      <td>...</td>\n",
       "      <td>0.0</td>\n",
       "      <td>2.405160</td>\n",
       "      <td>3.903509</td>\n",
       "      <td>3.277050</td>\n",
       "      <td>0.0</td>\n",
       "      <td>0.0</td>\n",
       "      <td>0.000000</td>\n",
       "      <td>4.254837</td>\n",
       "      <td>0.000000</td>\n",
       "      <td>5.214127</td>\n",
       "    </tr>\n",
       "    <tr>\n",
       "      <th>2</th>\n",
       "      <td>0</td>\n",
       "      <td>3.492573</td>\n",
       "      <td>2.642864</td>\n",
       "      <td>4.768249</td>\n",
       "      <td>2.348791</td>\n",
       "      <td>10.814974</td>\n",
       "      <td>5.679429</td>\n",
       "      <td>8.156457</td>\n",
       "      <td>0.0</td>\n",
       "      <td>4.753775</td>\n",
       "      <td>...</td>\n",
       "      <td>0.0</td>\n",
       "      <td>4.323108</td>\n",
       "      <td>4.587719</td>\n",
       "      <td>3.748767</td>\n",
       "      <td>0.0</td>\n",
       "      <td>0.0</td>\n",
       "      <td>0.000000</td>\n",
       "      <td>5.637185</td>\n",
       "      <td>1.899896</td>\n",
       "      <td>1.480695</td>\n",
       "    </tr>\n",
       "  </tbody>\n",
       "</table>\n",
       "<p>3 rows × 501 columns</p>\n",
       "</div>"
      ],
      "text/plain": [
       "   t2d      3822     35766      3285      1160       1923      3296      3260  \\\n",
       "0    0  0.000000  0.000000  0.000000  3.322937  10.815594  4.808866  7.037647   \n",
       "1    0  0.000000  3.400627  0.000000  2.284452  11.641512  5.379671  7.540405   \n",
       "2    0  3.492573  2.642864  4.768249  2.348791  10.814974  5.679429  8.156457   \n",
       "\n",
       "   8198      3302    ...     16146     11922      9406      5287  659  20372  \\\n",
       "0   0.0  4.109481    ...       0.0  5.075939  4.855219  1.789240  0.0    0.0   \n",
       "1   0.0  5.365140    ...       0.0  2.405160  3.903509  3.277050  0.0    0.0   \n",
       "2   0.0  4.753775    ...       0.0  4.323108  4.587719  3.748767  0.0    0.0   \n",
       "\n",
       "      16013      1129      3503      7459  \n",
       "0  4.891742  5.580920  2.386135  0.000000  \n",
       "1  0.000000  4.254837  0.000000  5.214127  \n",
       "2  0.000000  5.637185  1.899896  1.480695  \n",
       "\n",
       "[3 rows x 501 columns]"
      ]
     },
     "execution_count": 3,
     "metadata": {},
     "output_type": "execute_result"
    }
   ],
   "source": [
    "df.head(3)"
   ]
  },
  {
   "cell_type": "code",
   "execution_count": 76,
   "metadata": {},
   "outputs": [],
   "source": [
    "y = df['t2d'].values\n",
    "X = df.drop(['t2d'], axis=1)"
   ]
  },
  {
   "cell_type": "code",
   "execution_count": 77,
   "metadata": {},
   "outputs": [],
   "source": [
    "from sklearn.model_selection import train_test_split\n",
    "X_train, X_test, y_train, y_test = train_test_split(X, y, test_size = 0.2, random_state=0)"
   ]
  },
  {
   "cell_type": "code",
   "execution_count": 80,
   "metadata": {},
   "outputs": [
    {
     "data": {
      "text/plain": [
       "(190, 500)"
      ]
     },
     "execution_count": 80,
     "metadata": {},
     "output_type": "execute_result"
    }
   ],
   "source": [
    "X_test.shape"
   ]
  },
  {
   "cell_type": "code",
   "execution_count": null,
   "metadata": {},
   "outputs": [],
   "source": [
    "### Split train, test\n",
    "X_train, X_test, y_train, y_test = cv.train_test_split(X, y, test_size = 0.2, random_state=0)"
   ]
  },
  {
   "cell_type": "markdown",
   "metadata": {},
   "source": [
    "### SVM"
   ]
  },
  {
   "cell_type": "code",
   "execution_count": 8,
   "metadata": {},
   "outputs": [
    {
     "data": {
      "text/plain": [
       "GridSearchCV(cv=sklearn.cross_validation.StratifiedKFold(labels=[0 1 ..., 1 1], n_folds=3, shuffle=False, random_state=None),\n",
       "       error_score='raise',\n",
       "       estimator=SVC(C=1.0, cache_size=200, class_weight=None, coef0=0.0,\n",
       "  decision_function_shape=None, degree=3, gamma='auto', kernel='rbf',\n",
       "  max_iter=-1, probability=False, random_state=None, shrinking=True,\n",
       "  tol=0.001, verbose=False),\n",
       "       fit_params={}, iid=True, n_jobs=1,\n",
       "       param_grid={'gamma': array([  1.00000e-10,   1.00000e-09,   1.00000e-08,   1.00000e-07,\n",
       "         1.00000e-06,   1.00000e-05,   1.00000e-04,   1.00000e-03,\n",
       "         1.00000e-02,   1.00000e-01,   1.00000e+00]), 'C': array([  1.00000e-04,   1.00000e-03,   1.00000e-02,   1.00000e-01,\n",
       "         1.00000e+00,   1.00000e+01,   1.00000e+02,   1.00000e+03])},\n",
       "       pre_dispatch='2*n_jobs', refit=True, scoring=None, verbose=0)"
      ]
     },
     "execution_count": 8,
     "metadata": {},
     "output_type": "execute_result"
    }
   ],
   "source": [
    "# Use GridSearchCV to find the best values for C and gamma\n",
    "C_range = 10.0 ** np.arange(-4, 4)\n",
    "gamma_range = 10.0 ** np.arange(-10, 1)\n",
    "param_grid = dict(gamma=gamma_range, C=C_range)\n",
    "skf = cv.StratifiedKFold(y=y_train, n_folds=3)\n",
    "grid = GridSearchCV(svm.SVC(), param_grid=param_grid, cv=skf)\n",
    "grid.fit(X_train, y_train)"
   ]
  },
  {
   "cell_type": "code",
   "execution_count": 9,
   "metadata": {},
   "outputs": [
    {
     "name": "stdout",
     "output_type": "stream",
     "text": [
      "SVC(C=10.0, cache_size=200, class_weight=None, coef0=0.0,\n",
      "  decision_function_shape=None, degree=3, gamma=0.001, kernel='rbf',\n",
      "  max_iter=-1, probability=True, random_state=None, shrinking=True,\n",
      "  tol=0.001, verbose=False)\n",
      "Best parameter {'gamma': 0.001, 'C': 10.0}\n",
      "Cross-Validation score 0.828102126176\n",
      "Independent accuracy score 0.815789473684\n",
      "Independent precision score 0.836206896552\n",
      "Independent recall score 0.858407079646\n",
      "Independent f1 score 0.847161572052\n"
     ]
    }
   ],
   "source": [
    "# Print out parameters\n",
    "clf_svm = svm.SVC(probability=True, **grid.best_params_)\n",
    "y_pred = clf_svm.fit(X_train, y_train).predict(X_test)\n",
    "print (clf_svm)\n",
    "print (\"Best parameter\", grid.best_params_ )\n",
    "print (\"Cross-Validation score\", cv.cross_val_score(clf_svm, X_train,y_train, cv=5).mean())\n",
    "print (\"Independent accuracy score\", accuracy_score(y_test, y_pred))\n",
    "print (\"Independent precision score\", precision_score(y_test, y_pred))\n",
    "print (\"Independent recall score\", recall_score(y_test, y_pred))\n",
    "print (\"Independent f1 score\", f1_score(y_test, y_pred))"
   ]
  },
  {
   "cell_type": "code",
   "execution_count": 10,
   "metadata": {},
   "outputs": [
    {
     "name": "stdout",
     "output_type": "stream",
     "text": [
      "0.828102126176\n"
     ]
    }
   ],
   "source": [
    "print(cv.cross_val_score(clf_svm, X_train, y_train, cv=5).mean())"
   ]
  },
  {
   "cell_type": "code",
   "execution_count": 13,
   "metadata": {
    "collapsed": true
   },
   "outputs": [],
   "source": [
    "## Plot ROC curve\n",
    "# Compute roc and auc\n",
    "probas_ = clf_svm.predict_proba(X_test)\n",
    "y_test[y_test == 2] = 0\n",
    "fpr, tpr, thresholds = roc_curve(y_test, probas_[:, 1])\n",
    "roc_auc = auc(fpr, tpr) "
   ]
  },
  {
   "cell_type": "code",
   "execution_count": 14,
   "metadata": {},
   "outputs": [
    {
     "data": {
      "image/png": "[encoded data removed]",
      "text/plain": [
       "<matplotlib.figure.Figure at 0x1082bebe0>"
      ]
     },
     "metadata": {},
     "output_type": "display_data"
    }
   ],
   "source": [
    "# Confusion Matrix\n",
    "y_pred = clf_svm.predict(X_test)\n",
    "cm = confusion_matrix(y_test, y_pred)\n",
    "\n",
    "# Plot roc curve\n",
    "plt.clf()\n",
    "plt.plot(fpr, tpr, label='AUC = %0.2f' % roc_auc)\n",
    "plt.plot([0, 1], [0, 1], 'k--')\n",
    "plt.xlim([0.0, 1.0])\n",
    "plt.ylim([0.0, 1.0])\n",
    "plt.xlabel('False Positive Rate')\n",
    "plt.ylabel('True Positive Rate')\n",
    "plt.title('ROC')\n",
    "plt.legend(loc=\"lower right\")\n",
    "plt.show()"
   ]
  },
  {
   "cell_type": "markdown",
   "metadata": {},
   "source": [
    "### RF"
   ]
  },
  {
   "cell_type": "code",
   "execution_count": 16,
   "metadata": {},
   "outputs": [
    {
     "name": "stdout",
     "output_type": "stream",
     "text": [
      "0.877004182642\n"
     ]
    }
   ],
   "source": [
    "#max_features = 23, sqrt(500)\n",
    "clf_rf = RandomForestClassifier(n_estimators=1000, max_features=23)\n",
    "clf_rf = clf_rf.fit(X_train, y_train)\n",
    "print(cv.cross_val_score(clf_rf, X_train, y_train, cv=5).mean())"
   ]
  },
  {
   "cell_type": "code",
   "execution_count": 17,
   "metadata": {},
   "outputs": [
    {
     "data": {
      "image/png": "[encoded data removed]",
      "text/plain": [
       "<matplotlib.figure.Figure at 0x117516ef0>"
      ]
     },
     "metadata": {},
     "output_type": "display_data"
    }
   ],
   "source": [
    "# Plot ROC curve\n",
    "# Compute roc and auc\n",
    "probas_ = clf_rf.predict_proba(X_test)\n",
    "y_test[y_test == 2] = 0\n",
    "fpr, tpr, thresholds = roc_curve(y_test, probas_[:, 1])\n",
    "roc_auc = auc(fpr, tpr)\n",
    "\n",
    "# Plot roc curve\n",
    "plt.clf()\n",
    "plt.plot(fpr, tpr, label='AUC = %0.2f' % roc_auc)\n",
    "plt.plot([0, 1], [0, 1], 'k--')\n",
    "plt.xlim([0.0, 1.0])\n",
    "plt.ylim([0.0, 1.0])\n",
    "plt.xlabel('False Positive Rate')\n",
    "plt.ylabel('True Positive Rate')\n",
    "plt.title('ROC')\n",
    "plt.legend(loc=\"lower right\")\n",
    "plt.show()"
   ]
  },
  {
   "cell_type": "code",
   "execution_count": 18,
   "metadata": {
    "collapsed": true
   },
   "outputs": [],
   "source": [
    "# Get important features\n",
    "importances = clf_rf.feature_importances_\n",
    "std = np.std([tree.feature_importances_ for tree in clf_rf.estimators_],\n",
    "             axis=0)\n",
    "indices = np.argsort(importances)[::-1]"
   ]
  },
  {
   "cell_type": "code",
   "execution_count": 19,
   "metadata": {},
   "outputs": [
    {
     "data": {
      "image/png": "[encoded data removed]",
      "text/plain": [
       "<matplotlib.figure.Figure at 0x11752d160>"
      ]
     },
     "metadata": {},
     "output_type": "display_data"
    }
   ],
   "source": [
    "# Print the feature ranking\n",
    "\n",
    "# Plot the feature importances of the forest\n",
    "plt.figure()\n",
    "plt.title(\"Feature importances\")\n",
    "plt.bar(range(10), importances[indices][:10],\n",
    "       color=\"r\", yerr=std[indices][:10], align=\"center\")\n",
    "plt.xticks(range(10), indices[:10])\n",
    "plt.xlim([-1, 10])\n",
    "plt.show()"
   ]
  },
  {
   "cell_type": "code",
   "execution_count": 20,
   "metadata": {},
   "outputs": [
    {
     "data": {
      "text/plain": [
       "array([ 0.03918539,  0.03297582,  0.02774971,  0.02162186,  0.02023726,\n",
       "        0.01837336,  0.01696719,  0.01575641,  0.01556768,  0.01556015,\n",
       "        0.01330352,  0.01228417,  0.01143092,  0.01028765,  0.0096745 ,\n",
       "        0.00934765,  0.00858803,  0.00790245,  0.00743106,  0.00719739,\n",
       "        0.00677387,  0.00676352,  0.00676168,  0.00673312,  0.00670942,\n",
       "        0.00669805,  0.00656735,  0.00588814,  0.0058122 ,  0.00579686,\n",
       "        0.00574066,  0.00558127,  0.00556788,  0.0051783 ,  0.00512273,\n",
       "        0.00492222,  0.00415335,  0.00408624,  0.00402311,  0.00392482,\n",
       "        0.00391488,  0.00384413,  0.00379674,  0.00378783,  0.00378319,\n",
       "        0.003742  ,  0.0037276 ,  0.00368992,  0.00355425,  0.00352827])"
      ]
     },
     "execution_count": 20,
     "metadata": {},
     "output_type": "execute_result"
    }
   ],
   "source": [
    "importances[indices][:50]"
   ]
  },
  {
   "cell_type": "code",
   "execution_count": null,
   "metadata": {},
   "outputs": [],
   "source": [
    "# save feature genes\n",
    "tmp = pd.DataFrame(indices[:50])\n",
    "tmp.to_csv('../data/RF_importance50.csv', index=True)"
   ]
  },
  {
   "cell_type": "markdown",
   "metadata": {},
   "source": [
    "### xgb"
   ]
  },
  {
   "cell_type": "code",
   "execution_count": 21,
   "metadata": {},
   "outputs": [
    {
     "name": "stdout",
     "output_type": "stream",
     "text": [
      "0.886258278146\n",
      "[ 0.875       0.85430464  0.90066225  0.91390728  0.88741722]\n"
     ]
    }
   ],
   "source": [
    "clf_xgb = XGBClassifier(max_depth=6, learning_rate=0.3, n_estimators=25,  \n",
    "                    subsample=0.5, colsample_bytree=0.5, seed=0)                  \n",
    "clf_xgb = clf_xgb.fit(X_train, y_train)\n",
    "print(cv.cross_val_score(clf_xgb, X_train, y_train, cv=5).mean())\n",
    "print(cv.cross_val_score(clf_xgb, X_train, y_train, cv=5))"
   ]
  },
  {
   "cell_type": "code",
   "execution_count": 92,
   "metadata": {},
   "outputs": [
    {
     "name": "stdout",
     "output_type": "stream",
     "text": [
      "0.8862582781456954\n",
      "[0.875      0.85430464 0.90066225 0.91390728 0.88741722]\n"
     ]
    }
   ],
   "source": [
    "from sklearn.model_selection import cross_val_score\n",
    "from xgboost.sklearn import XGBClassifier\n",
    "\n",
    "\n",
    "clf_xgb = XGBClassifier(max_depth=6, learning_rate=0.3, n_estimators=25,  \n",
    "                    subsample=0.5, colsample_bytree=0.5, seed=0)                  \n",
    "clf_xgb = clf_xgb.fit(X_train, y_train)\n",
    "print(cross_val_score(clf_xgb, X_train, y_train, cv=5).mean())\n",
    "print(cross_val_score(clf_xgb, X_train, y_train, cv=5))"
   ]
  },
  {
   "cell_type": "code",
   "execution_count": 93,
   "metadata": {},
   "outputs": [],
   "source": [
    "probas_ = clf_xgb.predict_proba(X_test)\n",
    "y_test[y_test == 2] = 0\n",
    "fpr, tpr, thresholds = roc_curve(y_test, probas_[:, 1])\n",
    "roc_auc = auc(fpr, tpr)"
   ]
  },
  {
   "cell_type": "code",
   "execution_count": 22,
   "metadata": {},
   "outputs": [
    {
     "data": {
      "image/png": "[encoded data removed]",
      "text/plain": [
       "<matplotlib.figure.Figure at 0x117414940>"
      ]
     },
     "metadata": {},
     "output_type": "display_data"
    }
   ],
   "source": [
    "# Plot ROC curve\n",
    "# Compute roc and auc\n",
    "probas_ = clf_xgb.predict_proba(X_test)\n",
    "y_test[y_test == 2] = 0\n",
    "fpr, tpr, thresholds = roc_curve(y_test, probas_[:, 1])\n",
    "roc_auc = auc(fpr, tpr)\n",
    "\n",
    "# Plot roc curve\n",
    "plt.clf()\n",
    "plt.plot(fpr, tpr, label='AUC = %0.2f' % roc_auc)\n",
    "plt.plot([0, 1], [0, 1], 'k--')\n",
    "plt.xlim([0.0, 1.0])\n",
    "plt.ylim([0.0, 1.0])\n",
    "plt.xlabel('False Positive Rate')\n",
    "plt.ylabel('True Positive Rate')\n",
    "plt.title('ROC')\n",
    "plt.legend(loc=\"lower right\")\n",
    "plt.show()"
   ]
  },
  {
   "cell_type": "code",
   "execution_count": 108,
   "metadata": {},
   "outputs": [
    {
     "data": {
      "text/html": [
       "\n",
       "    <div class=\"bk-root\">\n",
       "        <a href=\"https://bokeh.pydata.org\" target=\"_blank\" class=\"bk-logo bk-logo-small bk-logo-notebook\"></a>\n",
       "        <span id=\"1753\">Loading BokehJS ...</span>\n",
       "    </div>"
      ]
     },
     "metadata": {},
     "output_type": "display_data"
    },
    {
     "data": {
      "application/javascript": [
       "\n",
       "(function(root) {\n",
       "  function now() {\n",
       "    return new Date();\n",
       "  }\n",
       "\n",
       "  var force = true;\n",
       "\n",
       "  if (typeof (root._bokeh_onload_callbacks) === \"undefined\" || force === true) {\n",
       "    root._bokeh_onload_callbacks = [];\n",
       "    root._bokeh_is_loading = undefined;\n",
       "  }\n",
       "\n",
       "  var JS_MIME_TYPE = 'application/javascript';\n",
       "  var HTML_MIME_TYPE = 'text/html';\n",
       "  var EXEC_MIME_TYPE = 'application/vnd.bokehjs_exec.v0+json';\n",
       "  var CLASS_NAME = 'output_bokeh rendered_html';\n",
       "\n",
       "  /**\n",
       "   * Render data to the DOM node\n",
       "   */\n",
       "  function render(props, node) {\n",
       "    var script = document.createElement(\"script\");\n",
       "    node.appendChild(script);\n",
       "  }\n",
       "\n",
       "  /**\n",
       "   * Handle when an output is cleared or removed\n",
       "   */\n",
       "  function handleClearOutput(event, handle) {\n",
       "    var cell = handle.cell;\n",
       "\n",
       "    var id = cell.output_area._bokeh_element_id;\n",
       "    var server_id = cell.output_area._bokeh_server_id;\n",
       "    // Clean up Bokeh references\n",
       "    if (id != null && id in Bokeh.index) {\n",
       "      Bokeh.index[id].model.document.clear();\n",
       "      delete Bokeh.index[id];\n",
       "    }\n",
       "\n",
       "    if (server_id !== undefined) {\n",
       "      // Clean up Bokeh references\n",
       "      var cmd = \"from bokeh.io.state import curstate; print(curstate().uuid_to_server['\" + server_id + \"'].get_sessions()[0].document.roots[0]._id)\";\n",
       "      cell.notebook.kernel.execute(cmd, {\n",
       "        iopub: {\n",
       "          output: function(msg) {\n",
       "            var id = msg.content.text.trim();\n",
       "            if (id in Bokeh.index) {\n",
       "              Bokeh.index[id].model.document.clear();\n",
       "              delete Bokeh.index[id];\n",
       "            }\n",
       "          }\n",
       "        }\n",
       "      });\n",
       "      // Destroy server and session\n",
       "      var cmd = \"import bokeh.io.notebook as ion; ion.destroy_server('\" + server_id + \"')\";\n",
       "      cell.notebook.kernel.execute(cmd);\n",
       "    }\n",
       "  }\n",
       "\n",
       "  /**\n",
       "   * Handle when a new output is added\n",
       "   */\n",
       "  function handleAddOutput(event, handle) {\n",
       "    var output_area = handle.output_area;\n",
       "    var output = handle.output;\n",
       "\n",
       "    // limit handleAddOutput to display_data with EXEC_MIME_TYPE content only\n",
       "    if ((output.output_type != \"display_data\") || (!output.data.hasOwnProperty(EXEC_MIME_TYPE))) {\n",
       "      return\n",
       "    }\n",
       "\n",
       "    var toinsert = output_area.element.find(\".\" + CLASS_NAME.split(' ')[0]);\n",
       "\n",
       "    if (output.metadata[EXEC_MIME_TYPE][\"id\"] !== undefined) {\n",
       "      toinsert[toinsert.length - 1].firstChild.textContent = output.data[JS_MIME_TYPE];\n",
       "      // store reference to embed id on output_area\n",
       "      output_area._bokeh_element_id = output.metadata[EXEC_MIME_TYPE][\"id\"];\n",
       "    }\n",
       "    if (output.metadata[EXEC_MIME_TYPE][\"server_id\"] !== undefined) {\n",
       "      var bk_div = document.createElement(\"div\");\n",
       "      bk_div.innerHTML = output.data[HTML_MIME_TYPE];\n",
       "      var script_attrs = bk_div.children[0].attributes;\n",
       "      for (var i = 0; i < script_attrs.length; i++) {\n",
       "        toinsert[toinsert.length - 1].firstChild.setAttribute(script_attrs[i].name, script_attrs[i].value);\n",
       "      }\n",
       "      // store reference to server id on output_area\n",
       "      output_area._bokeh_server_id = output.metadata[EXEC_MIME_TYPE][\"server_id\"];\n",
       "    }\n",
       "  }\n",
       "\n",
       "  function register_renderer(events, OutputArea) {\n",
       "\n",
       "    function append_mime(data, metadata, element) {\n",
       "      // create a DOM node to render to\n",
       "      var toinsert = this.create_output_subarea(\n",
       "        metadata,\n",
       "        CLASS_NAME,\n",
       "        EXEC_MIME_TYPE\n",
       "      );\n",
       "      this.keyboard_manager.register_events(toinsert);\n",
       "      // Render to node\n",
       "      var props = {data: data, metadata: metadata[EXEC_MIME_TYPE]};\n",
       "      render(props, toinsert[toinsert.length - 1]);\n",
       "      element.append(toinsert);\n",
       "      return toinsert\n",
       "    }\n",
       "\n",
       "    /* Handle when an output is cleared or removed */\n",
       "    events.on('clear_output.CodeCell', handleClearOutput);\n",
       "    events.on('delete.Cell', handleClearOutput);\n",
       "\n",
       "    /* Handle when a new output is added */\n",
       "    events.on('output_added.OutputArea', handleAddOutput);\n",
       "\n",
       "    /**\n",
       "     * Register the mime type and append_mime function with output_area\n",
       "     */\n",
       "    OutputArea.prototype.register_mime_type(EXEC_MIME_TYPE, append_mime, {\n",
       "      /* Is output safe? */\n",
       "      safe: true,\n",
       "      /* Index of renderer in `output_area.display_order` */\n",
       "      index: 0\n",
       "    });\n",
       "  }\n",
       "\n",
       "  // register the mime type if in Jupyter Notebook environment and previously unregistered\n",
       "  if (root.Jupyter !== undefined) {\n",
       "    var events = require('base/js/events');\n",
       "    var OutputArea = require('notebook/js/outputarea').OutputArea;\n",
       "\n",
       "    if (OutputArea.prototype.mime_types().indexOf(EXEC_MIME_TYPE) == -1) {\n",
       "      register_renderer(events, OutputArea);\n",
       "    }\n",
       "  }\n",
       "\n",
       "  \n",
       "  if (typeof (root._bokeh_timeout) === \"undefined\" || force === true) {\n",
       "    root._bokeh_timeout = Date.now() + 5000;\n",
       "    root._bokeh_failed_load = false;\n",
       "  }\n",
       "\n",
       "  var NB_LOAD_WARNING = {'data': {'text/html':\n",
       "     \"<div style='background-color: #fdd'>\\n\"+\n",
       "     \"<p>\\n\"+\n",
       "     \"BokehJS does not appear to have successfully loaded. If loading BokehJS from CDN, this \\n\"+\n",
       "     \"may be due to a slow or bad network connection. Possible fixes:\\n\"+\n",
       "     \"</p>\\n\"+\n",
       "     \"<ul>\\n\"+\n",
       "     \"<li>re-rerun `output_notebook()` to attempt to load from CDN again, or</li>\\n\"+\n",
       "     \"<li>use INLINE resources instead, as so:</li>\\n\"+\n",
       "     \"</ul>\\n\"+\n",
       "     \"<code>\\n\"+\n",
       "     \"from bokeh.resources import INLINE\\n\"+\n",
       "     \"output_notebook(resources=INLINE)\\n\"+\n",
       "     \"</code>\\n\"+\n",
       "     \"</div>\"}};\n",
       "\n",
       "  function display_loaded() {\n",
       "    var el = document.getElementById(\"1753\");\n",
       "    if (el != null) {\n",
       "      el.textContent = \"BokehJS is loading...\";\n",
       "    }\n",
       "    if (root.Bokeh !== undefined) {\n",
       "      if (el != null) {\n",
       "        el.textContent = \"BokehJS \" + root.Bokeh.version + \" successfully loaded.\";\n",
       "      }\n",
       "    } else if (Date.now() < root._bokeh_timeout) {\n",
       "      setTimeout(display_loaded, 100)\n",
       "    }\n",
       "  }\n",
       "\n",
       "\n",
       "  function run_callbacks() {\n",
       "    try {\n",
       "      root._bokeh_onload_callbacks.forEach(function(callback) { callback() });\n",
       "    }\n",
       "    finally {\n",
       "      delete root._bokeh_onload_callbacks\n",
       "    }\n",
       "    console.info(\"Bokeh: all callbacks have finished\");\n",
       "  }\n",
       "\n",
       "  function load_libs(js_urls, callback) {\n",
       "    root._bokeh_onload_callbacks.push(callback);\n",
       "    if (root._bokeh_is_loading > 0) {\n",
       "      console.log(\"Bokeh: BokehJS is being loaded, scheduling callback at\", now());\n",
       "      return null;\n",
       "    }\n",
       "    if (js_urls == null || js_urls.length === 0) {\n",
       "      run_callbacks();\n",
       "      return null;\n",
       "    }\n",
       "    console.log(\"Bokeh: BokehJS not loaded, scheduling load and callback at\", now());\n",
       "    root._bokeh_is_loading = js_urls.length;\n",
       "    for (var i = 0; i < js_urls.length; i++) {\n",
       "      var url = js_urls[i];\n",
       "      var s = document.createElement('script');\n",
       "      s.src = url;\n",
       "      s.async = false;\n",
       "      s.onreadystatechange = s.onload = function() {\n",
       "        root._bokeh_is_loading--;\n",
       "        if (root._bokeh_is_loading === 0) {\n",
       "          console.log(\"Bokeh: all BokehJS libraries loaded\");\n",
       "          run_callbacks()\n",
       "        }\n",
       "      };\n",
       "      s.onerror = function() {\n",
       "        console.warn(\"failed to load library \" + url);\n",
       "      };\n",
       "      console.log(\"Bokeh: injecting script tag for BokehJS library: \", url);\n",
       "      document.getElementsByTagName(\"head\")[0].appendChild(s);\n",
       "    }\n",
       "  };var element = document.getElementById(\"1753\");\n",
       "  if (element == null) {\n",
       "    console.log(\"Bokeh: ERROR: autoload.js configured with elementid '1753' but no matching script tag was found. \")\n",
       "    return false;\n",
       "  }\n",
       "\n",
       "  var js_urls = [\"https://cdn.pydata.org/bokeh/release/bokeh-1.0.2.min.js\", \"https://cdn.pydata.org/bokeh/release/bokeh-widgets-1.0.2.min.js\", \"https://cdn.pydata.org/bokeh/release/bokeh-tables-1.0.2.min.js\", \"https://cdn.pydata.org/bokeh/release/bokeh-gl-1.0.2.min.js\"];\n",
       "\n",
       "  var inline_js = [\n",
       "    function(Bokeh) {\n",
       "      Bokeh.set_log_level(\"info\");\n",
       "    },\n",
       "    \n",
       "    function(Bokeh) {\n",
       "      \n",
       "    },\n",
       "    function(Bokeh) {\n",
       "      console.log(\"Bokeh: injecting CSS: https://cdn.pydata.org/bokeh/release/bokeh-1.0.2.min.css\");\n",
       "      Bokeh.embed.inject_css(\"https://cdn.pydata.org/bokeh/release/bokeh-1.0.2.min.css\");\n",
       "      console.log(\"Bokeh: injecting CSS: https://cdn.pydata.org/bokeh/release/bokeh-widgets-1.0.2.min.css\");\n",
       "      Bokeh.embed.inject_css(\"https://cdn.pydata.org/bokeh/release/bokeh-widgets-1.0.2.min.css\");\n",
       "      console.log(\"Bokeh: injecting CSS: https://cdn.pydata.org/bokeh/release/bokeh-tables-1.0.2.min.css\");\n",
       "      Bokeh.embed.inject_css(\"https://cdn.pydata.org/bokeh/release/bokeh-tables-1.0.2.min.css\");\n",
       "    }\n",
       "  ];\n",
       "\n",
       "  function run_inline_js() {\n",
       "    \n",
       "    if ((root.Bokeh !== undefined) || (force === true)) {\n",
       "      for (var i = 0; i < inline_js.length; i++) {\n",
       "        inline_js[i].call(root, root.Bokeh);\n",
       "      }if (force === true) {\n",
       "        display_loaded();\n",
       "      }} else if (Date.now() < root._bokeh_timeout) {\n",
       "      setTimeout(run_inline_js, 100);\n",
       "    } else if (!root._bokeh_failed_load) {\n",
       "      console.log(\"Bokeh: BokehJS failed to load within specified timeout.\");\n",
       "      root._bokeh_failed_load = true;\n",
       "    } else if (force !== true) {\n",
       "      var cell = $(document.getElementById(\"1753\")).parents('.cell').data().cell;\n",
       "      cell.output_area.append_execute_result(NB_LOAD_WARNING)\n",
       "    }\n",
       "\n",
       "  }\n",
       "\n",
       "  if (root._bokeh_is_loading === 0) {\n",
       "    console.log(\"Bokeh: BokehJS loaded, going straight to plotting\");\n",
       "    run_inline_js();\n",
       "  } else {\n",
       "    load_libs(js_urls, function() {\n",
       "      console.log(\"Bokeh: BokehJS plotting callback run at\", now());\n",
       "      run_inline_js();\n",
       "    });\n",
       "  }\n",
       "}(window));"
      ],
      "application/vnd.bokehjs_load.v0+json": "\n(function(root) {\n  function now() {\n    return new Date();\n  }\n\n  var force = true;\n\n  if (typeof (root._bokeh_onload_callbacks) === \"undefined\" || force === true) {\n    root._bokeh_onload_callbacks = [];\n    root._bokeh_is_loading = undefined;\n  }\n\n  \n\n  \n  if (typeof (root._bokeh_timeout) === \"undefined\" || force === true) {\n    root._bokeh_timeout = Date.now() + 5000;\n    root._bokeh_failed_load = false;\n  }\n\n  var NB_LOAD_WARNING = {'data': {'text/html':\n     \"<div style='background-color: #fdd'>\\n\"+\n     \"<p>\\n\"+\n     \"BokehJS does not appear to have successfully loaded. If loading BokehJS from CDN, this \\n\"+\n     \"may be due to a slow or bad network connection. Possible fixes:\\n\"+\n     \"</p>\\n\"+\n     \"<ul>\\n\"+\n     \"<li>re-rerun `output_notebook()` to attempt to load from CDN again, or</li>\\n\"+\n     \"<li>use INLINE resources instead, as so:</li>\\n\"+\n     \"</ul>\\n\"+\n     \"<code>\\n\"+\n     \"from bokeh.resources import INLINE\\n\"+\n     \"output_notebook(resources=INLINE)\\n\"+\n     \"</code>\\n\"+\n     \"</div>\"}};\n\n  function display_loaded() {\n    var el = document.getElementById(\"1753\");\n    if (el != null) {\n      el.textContent = \"BokehJS is loading...\";\n    }\n    if (root.Bokeh !== undefined) {\n      if (el != null) {\n        el.textContent = \"BokehJS \" + root.Bokeh.version + \" successfully loaded.\";\n      }\n    } else if (Date.now() < root._bokeh_timeout) {\n      setTimeout(display_loaded, 100)\n    }\n  }\n\n\n  function run_callbacks() {\n    try {\n      root._bokeh_onload_callbacks.forEach(function(callback) { callback() });\n    }\n    finally {\n      delete root._bokeh_onload_callbacks\n    }\n    console.info(\"Bokeh: all callbacks have finished\");\n  }\n\n  function load_libs(js_urls, callback) {\n    root._bokeh_onload_callbacks.push(callback);\n    if (root._bokeh_is_loading > 0) {\n      console.log(\"Bokeh: BokehJS is being loaded, scheduling callback at\", now());\n      return null;\n    }\n    if (js_urls == null || js_urls.length === 0) {\n      run_callbacks();\n      return null;\n    }\n    console.log(\"Bokeh: BokehJS not loaded, scheduling load and callback at\", now());\n    root._bokeh_is_loading = js_urls.length;\n    for (var i = 0; i < js_urls.length; i++) {\n      var url = js_urls[i];\n      var s = document.createElement('script');\n      s.src = url;\n      s.async = false;\n      s.onreadystatechange = s.onload = function() {\n        root._bokeh_is_loading--;\n        if (root._bokeh_is_loading === 0) {\n          console.log(\"Bokeh: all BokehJS libraries loaded\");\n          run_callbacks()\n        }\n      };\n      s.onerror = function() {\n        console.warn(\"failed to load library \" + url);\n      };\n      console.log(\"Bokeh: injecting script tag for BokehJS library: \", url);\n      document.getElementsByTagName(\"head\")[0].appendChild(s);\n    }\n  };var element = document.getElementById(\"1753\");\n  if (element == null) {\n    console.log(\"Bokeh: ERROR: autoload.js configured with elementid '1753' but no matching script tag was found. \")\n    return false;\n  }\n\n  var js_urls = [\"https://cdn.pydata.org/bokeh/release/bokeh-1.0.2.min.js\", \"https://cdn.pydata.org/bokeh/release/bokeh-widgets-1.0.2.min.js\", \"https://cdn.pydata.org/bokeh/release/bokeh-tables-1.0.2.min.js\", \"https://cdn.pydata.org/bokeh/release/bokeh-gl-1.0.2.min.js\"];\n\n  var inline_js = [\n    function(Bokeh) {\n      Bokeh.set_log_level(\"info\");\n    },\n    \n    function(Bokeh) {\n      \n    },\n    function(Bokeh) {\n      console.log(\"Bokeh: injecting CSS: https://cdn.pydata.org/bokeh/release/bokeh-1.0.2.min.css\");\n      Bokeh.embed.inject_css(\"https://cdn.pydata.org/bokeh/release/bokeh-1.0.2.min.css\");\n      console.log(\"Bokeh: injecting CSS: https://cdn.pydata.org/bokeh/release/bokeh-widgets-1.0.2.min.css\");\n      Bokeh.embed.inject_css(\"https://cdn.pydata.org/bokeh/release/bokeh-widgets-1.0.2.min.css\");\n      console.log(\"Bokeh: injecting CSS: https://cdn.pydata.org/bokeh/release/bokeh-tables-1.0.2.min.css\");\n      Bokeh.embed.inject_css(\"https://cdn.pydata.org/bokeh/release/bokeh-tables-1.0.2.min.css\");\n    }\n  ];\n\n  function run_inline_js() {\n    \n    if ((root.Bokeh !== undefined) || (force === true)) {\n      for (var i = 0; i < inline_js.length; i++) {\n        inline_js[i].call(root, root.Bokeh);\n      }if (force === true) {\n        display_loaded();\n      }} else if (Date.now() < root._bokeh_timeout) {\n      setTimeout(run_inline_js, 100);\n    } else if (!root._bokeh_failed_load) {\n      console.log(\"Bokeh: BokehJS failed to load within specified timeout.\");\n      root._bokeh_failed_load = true;\n    } else if (force !== true) {\n      var cell = $(document.getElementById(\"1753\")).parents('.cell').data().cell;\n      cell.output_area.append_execute_result(NB_LOAD_WARNING)\n    }\n\n  }\n\n  if (root._bokeh_is_loading === 0) {\n    console.log(\"Bokeh: BokehJS loaded, going straight to plotting\");\n    run_inline_js();\n  } else {\n    load_libs(js_urls, function() {\n      console.log(\"Bokeh: BokehJS plotting callback run at\", now());\n      run_inline_js();\n    });\n  }\n}(window));"
     },
     "metadata": {},
     "output_type": "display_data"
    },
    {
     "data": {
      "text/html": [
       "\n",
       "\n",
       "\n",
       "\n",
       "\n",
       "\n",
       "  <div class=\"bk-root\" id=\"d591a4d4-bc81-45f2-9844-f1cf85819a5e\"></div>\n"
      ]
     },
     "metadata": {},
     "output_type": "display_data"
    },
    {
     "data": {
      "application/javascript": [
       "(function(root) {\n",
       "  function embed_document(root) {\n",
       "    \n",
       "  var docs_json = {\"23272718-6aed-4071-be99-37d40d7e29f1\":{\"roots\":{\"references\":[{\"attributes\":{\"below\":[{\"id\":\"1763\",\"type\":\"LinearAxis\"}],\"left\":[{\"id\":\"1768\",\"type\":\"LinearAxis\"}],\"plot_height\":400,\"renderers\":[{\"id\":\"1763\",\"type\":\"LinearAxis\"},{\"id\":\"1767\",\"type\":\"Grid\"},{\"id\":\"1768\",\"type\":\"LinearAxis\"},{\"id\":\"1772\",\"type\":\"Grid\"},{\"id\":\"1782\",\"type\":\"BoxAnnotation\"},{\"id\":\"1793\",\"type\":\"GlyphRenderer\"}],\"title\":{\"id\":\"1813\",\"type\":\"Title\"},\"toolbar\":{\"id\":\"1780\",\"type\":\"Toolbar\"},\"x_range\":{\"id\":\"1755\",\"type\":\"DataRange1d\"},\"x_scale\":{\"id\":\"1759\",\"type\":\"LinearScale\"},\"y_range\":{\"id\":\"1757\",\"type\":\"DataRange1d\"},\"y_scale\":{\"id\":\"1761\",\"type\":\"LinearScale\"}},\"id\":\"1754\",\"subtype\":\"Figure\",\"type\":\"Plot\"},{\"attributes\":{},\"id\":\"1774\",\"type\":\"WheelZoomTool\"},{\"attributes\":{},\"id\":\"1821\",\"type\":\"Selection\"},{\"attributes\":{\"line_color\":\"#1f77b4\",\"line_width\":2,\"x\":{\"field\":\"x\"},\"y\":{\"field\":\"y\"}},\"id\":\"1791\",\"type\":\"Line\"},{\"attributes\":{\"source\":{\"id\":\"1752\",\"type\":\"ColumnDataSource\"}},\"id\":\"1794\",\"type\":\"CDSView\"},{\"attributes\":{},\"id\":\"1817\",\"type\":\"BasicTickFormatter\"},{\"attributes\":{\"callback\":null,\"data\":{\"x\":{\"__ndarray__\":\"AAAAAAAAAAAAAAAAAAAAAAAAAAAAAAAAvmNqYO+Yij++Y2pg75iKP75jamDvmJo/vmNqYO+Ymj/Oyk+Is/KjP87KT4iz8qM/vmNqYO+Yqj++Y2pg75iqP1Z+QpyVn7A/Vn5CnJWfsD/Oyk+Is/KzP87KT4iz8rM/RhdddNFFtz9GF1100UW3PzWwd0wN7L0/NbB3TA3svT+SJEmSJEnCP5IkSZIkScI/CnFWfkKcxT8KcVZ+QpzFPzWwd0wN7M0/NbB3TA3szT+SJEmSJEnSP5IkSZIkSdI/RhdddNFF1z9GF1100UXXP2RqYO+YGtg/ZGpg75ga2D81sHdMDezdPzWwd0wN7N0/dNFFF1104T900UUXXXThPwpxVn5CnOU/CnFWfkKc5T+mBvaOqYHtP6YG9o6pge0/AAAAAAAA8D8=\",\"dtype\":\"float64\",\"shape\":[40]},\"y\":{\"__ndarray__\":\"AAAAAAAAAAB4+yGBtx+CPw6afNmgyec/Dpp82aDJ5z/pqYWVnlroP+mphZWeWug/s0GTLxs06T+zQZMvGzTpP2phpacWVuo/amGlpxZW6j9Y6amFlZ7qP1jpqYWVnuo/RnGuYxTn6j9Gca5jFOfqPxAJvP2QwOs/EAm8/ZDA6z/+kMDbDwnsP/6QwNsPCew/7BjFuY5R7D/sGMW5jlHsP9mgyZcNmuw/2aDJlw2a7D+1sNJTCyvtP7Ww0lMLK+0/ozjXMYpz7T+jONcxinPtP23Q5MsGTe4/bdDkywZN7j9bWOmphZXuP1tY6amFle4/SODthwTe7j9I4O2HBN7uPzZo8mWDJu8/NmjyZYMm7z8k8PZDAm/vPyTw9kMCb+8/Enj7IYG37z8SePshgbfvPwAAAAAAAPA/AAAAAAAA8D8=\",\"dtype\":\"float64\",\"shape\":[40]}},\"selected\":{\"id\":\"1821\",\"type\":\"Selection\"},\"selection_policy\":{\"id\":\"1820\",\"type\":\"UnionRenderers\"}},\"id\":\"1752\",\"type\":\"ColumnDataSource\"},{\"attributes\":{\"bottom_units\":\"screen\",\"fill_alpha\":{\"value\":0.5},\"fill_color\":{\"value\":\"lightgrey\"},\"left_units\":\"screen\",\"level\":\"overlay\",\"line_alpha\":{\"value\":1.0},\"line_color\":{\"value\":\"black\"},\"line_dash\":[4,4],\"line_width\":{\"value\":2},\"plot\":null,\"render_mode\":\"css\",\"right_units\":\"screen\",\"top_units\":\"screen\"},\"id\":\"1782\",\"type\":\"BoxAnnotation\"},{\"attributes\":{},\"id\":\"1769\",\"type\":\"BasicTicker\"},{\"attributes\":{\"callback\":null},\"id\":\"1757\",\"type\":\"DataRange1d\"},{\"attributes\":{},\"id\":\"1764\",\"type\":\"BasicTicker\"},{\"attributes\":{\"dimension\":1,\"plot\":{\"id\":\"1754\",\"subtype\":\"Figure\",\"type\":\"Plot\"},\"ticker\":{\"id\":\"1769\",\"type\":\"BasicTicker\"}},\"id\":\"1772\",\"type\":\"Grid\"},{\"attributes\":{\"line_alpha\":0.1,\"line_color\":\"#1f77b4\",\"line_width\":2,\"x\":{\"field\":\"x\"},\"y\":{\"field\":\"y\"}},\"id\":\"1792\",\"type\":\"Line\"},{\"attributes\":{},\"id\":\"1759\",\"type\":\"LinearScale\"},{\"attributes\":{\"data_source\":{\"id\":\"1752\",\"type\":\"ColumnDataSource\"},\"glyph\":{\"id\":\"1791\",\"type\":\"Line\"},\"hover_glyph\":null,\"muted_glyph\":null,\"nonselection_glyph\":{\"id\":\"1792\",\"type\":\"Line\"},\"selection_glyph\":null,\"view\":{\"id\":\"1794\",\"type\":\"CDSView\"}},\"id\":\"1793\",\"type\":\"GlyphRenderer\"},{\"attributes\":{},\"id\":\"1761\",\"type\":\"LinearScale\"},{\"attributes\":{},\"id\":\"1773\",\"type\":\"PanTool\"},{\"attributes\":{\"plot\":{\"id\":\"1754\",\"subtype\":\"Figure\",\"type\":\"Plot\"},\"ticker\":{\"id\":\"1764\",\"type\":\"BasicTicker\"}},\"id\":\"1767\",\"type\":\"Grid\"},{\"attributes\":{\"callback\":null},\"id\":\"1755\",\"type\":\"DataRange1d\"},{\"attributes\":{},\"id\":\"1778\",\"type\":\"HelpTool\"},{\"attributes\":{},\"id\":\"1776\",\"type\":\"SaveTool\"},{\"attributes\":{},\"id\":\"1820\",\"type\":\"UnionRenderers\"},{\"attributes\":{\"formatter\":{\"id\":\"1817\",\"type\":\"BasicTickFormatter\"},\"plot\":{\"id\":\"1754\",\"subtype\":\"Figure\",\"type\":\"Plot\"},\"ticker\":{\"id\":\"1769\",\"type\":\"BasicTicker\"}},\"id\":\"1768\",\"type\":\"LinearAxis\"},{\"attributes\":{\"overlay\":{\"id\":\"1782\",\"type\":\"BoxAnnotation\"}},\"id\":\"1775\",\"type\":\"BoxZoomTool\"},{\"attributes\":{},\"id\":\"1815\",\"type\":\"BasicTickFormatter\"},{\"attributes\":{\"active_drag\":\"auto\",\"active_inspect\":\"auto\",\"active_multi\":null,\"active_scroll\":\"auto\",\"active_tap\":\"auto\",\"tools\":[{\"id\":\"1773\",\"type\":\"PanTool\"},{\"id\":\"1774\",\"type\":\"WheelZoomTool\"},{\"id\":\"1775\",\"type\":\"BoxZoomTool\"},{\"id\":\"1776\",\"type\":\"SaveTool\"},{\"id\":\"1777\",\"type\":\"ResetTool\"},{\"id\":\"1778\",\"type\":\"HelpTool\"},{\"id\":\"1779\",\"type\":\"HoverTool\"}]},\"id\":\"1780\",\"type\":\"Toolbar\"},{\"attributes\":{},\"id\":\"1777\",\"type\":\"ResetTool\"},{\"attributes\":{\"formatter\":{\"id\":\"1815\",\"type\":\"BasicTickFormatter\"},\"plot\":{\"id\":\"1754\",\"subtype\":\"Figure\",\"type\":\"Plot\"},\"ticker\":{\"id\":\"1764\",\"type\":\"BasicTicker\"}},\"id\":\"1763\",\"type\":\"LinearAxis\"},{\"attributes\":{\"callback\":null,\"tooltips\":[[\"(x,y)\",\"($x, $y)\"]]},\"id\":\"1779\",\"type\":\"HoverTool\"},{\"attributes\":{\"plot\":null,\"text\":\"\"},\"id\":\"1813\",\"type\":\"Title\"}],\"root_ids\":[\"1754\"]},\"title\":\"Bokeh Application\",\"version\":\"1.0.2\"}};\n",
       "  var render_items = [{\"docid\":\"23272718-6aed-4071-be99-37d40d7e29f1\",\"roots\":{\"1754\":\"d591a4d4-bc81-45f2-9844-f1cf85819a5e\"}}];\n",
       "  root.Bokeh.embed.embed_items_notebook(docs_json, render_items);\n",
       "\n",
       "  }\n",
       "  if (root.Bokeh !== undefined) {\n",
       "    embed_document(root);\n",
       "  } else {\n",
       "    var attempts = 0;\n",
       "    var timer = setInterval(function(root) {\n",
       "      if (root.Bokeh !== undefined) {\n",
       "        embed_document(root);\n",
       "        clearInterval(timer);\n",
       "      }\n",
       "      attempts++;\n",
       "      if (attempts > 100) {\n",
       "        console.log(\"Bokeh: ERROR: Unable to run BokehJS code because BokehJS library is missing\");\n",
       "        clearInterval(timer);\n",
       "      }\n",
       "    }, 10, root)\n",
       "  }\n",
       "})(window);"
      ],
      "application/vnd.bokehjs_exec.v0+json": ""
     },
     "metadata": {
      "application/vnd.bokehjs_exec.v0+json": {
       "id": "1754"
      }
     },
     "output_type": "display_data"
    }
   ],
   "source": [
    "# OR interactive RUC with bokeh\n",
    "from bokeh.plotting import figure, output_file, show, ColumnDataSource\n",
    "from bokeh.io import output_notebook\n",
    "\n",
    "# output_file(\"ruc.html\")\n",
    "source = ColumnDataSource(data=dict(\n",
    "    x=fpr,\n",
    "    y=tpr,    \n",
    "))\n",
    "TOOLTIPS = [\n",
    "    (\"(x,y)\", \"($x, $y)\"),    \n",
    "]\n",
    "\n",
    "output_notebook()\n",
    "p = figure(plot_width=600, plot_height=400, tooltips=TOOLTIPS,)\n",
    "p.line('x', 'y', line_width=2, source=source)\n",
    "show(p)"
   ]
  },
  {
   "cell_type": "markdown",
   "metadata": {},
   "source": [
    "### model ensemble"
   ]
  },
  {
   "cell_type": "code",
   "execution_count": 23,
   "metadata": {
    "collapsed": true
   },
   "outputs": [],
   "source": [
    "from sklearn.ensemble import VotingClassifier"
   ]
  },
  {
   "cell_type": "code",
   "execution_count": 24,
   "metadata": {},
   "outputs": [
    {
     "name": "stdout",
     "output_type": "stream",
     "text": [
      "0.888915998606\n",
      "[ 0.86842105  0.87417219  0.9205298   0.90066225  0.88741722]\n"
     ]
    }
   ],
   "source": [
    "clf_vote = VotingClassifier(\n",
    "    estimators=[\n",
    "        ('svm', clf_svm),\n",
    "        ('xgb', clf_xgb),\n",
    "        ('RF', clf_rf),\n",
    "        ],\n",
    "    weights=[2,4,3],\n",
    "    voting='soft')\n",
    "clf_vote.fit(X_train,y_train)\n",
    "print(cv.cross_val_score(clf_vote, X_train, y_train, cv=5).mean())\n",
    "print(cv.cross_val_score(clf_vote, X_train, y_train, cv=5))"
   ]
  },
  {
   "cell_type": "code",
   "execution_count": 25,
   "metadata": {},
   "outputs": [
    {
     "name": "stdout",
     "output_type": "stream",
     "text": [
      "0.890240501917\n"
     ]
    }
   ],
   "source": [
    "print(cv.cross_val_score(clf_vote, X_train, y_train, cv=5, scoring= 'accuracy').mean())"
   ]
  },
  {
   "cell_type": "code",
   "execution_count": 26,
   "metadata": {},
   "outputs": [
    {
     "data": {
      "image/png": "[encoded data removed]",
      "text/plain": [
       "<matplotlib.figure.Figure at 0x117448a58>"
      ]
     },
     "metadata": {},
     "output_type": "display_data"
    }
   ],
   "source": [
    "# Plot ROC curve\n",
    "# Compute roc and auc\n",
    "probas_ = clf_vote.predict_proba(X_test)\n",
    "y_test[y_test == 2] = 0\n",
    "fpr, tpr, thresholds = roc_curve(y_test, probas_[:, 1])\n",
    "roc_auc = auc(fpr, tpr)\n",
    "\n",
    "# Plot roc curve\n",
    "plt.clf()\n",
    "plt.plot(fpr, tpr, label='AUC = %0.2f' % roc_auc)\n",
    "plt.plot([0, 1], [0, 1], 'k--')\n",
    "plt.xlim([0.0, 1.0])\n",
    "plt.ylim([0.0, 1.0])\n",
    "plt.xlabel('False Positive Rate')\n",
    "plt.ylabel('True Positive Rate')\n",
    "plt.title('ROC')\n",
    "plt.legend(loc=\"lower right\")\n",
    "plt.show()"
   ]
  },
  {
   "cell_type": "markdown",
   "metadata": {},
   "source": [
    "### CNN"
   ]
  },
  {
   "cell_type": "code",
   "execution_count": 66,
   "metadata": {},
   "outputs": [],
   "source": [
    "### keras\n",
    "from keras.layers import Dense\n",
    "from keras.models import Sequential\n",
    "from keras.regularizers import l1\n",
    "from sklearn.preprocessing import StandardScaler\n",
    "from sklearn.model_selection import train_test_split"
   ]
  },
  {
   "cell_type": "code",
   "execution_count": 82,
   "metadata": {},
   "outputs": [],
   "source": [
    "nb_epoch = 200 \n",
    "batch_size = 30"
   ]
  },
  {
   "cell_type": "code",
   "execution_count": 81,
   "metadata": {},
   "outputs": [],
   "source": [
    "arrayTrainFeatures = np.array(X_train)\n",
    "arrayTrainLabels = np.array(y_train)\n",
    "arrayTestFeatures = np.array(X_test)"
   ]
  },
  {
   "cell_type": "code",
   "execution_count": 83,
   "metadata": {},
   "outputs": [],
   "source": [
    "cnnModel = Sequential()\n",
    "cnnModel.add(Dense(1, input_dim=500, activation='sigmoid'))\n",
    "cnnModel.add(Dense(1, input_dim=500, activation='sigmoid'))\n",
    "cnnModel.add(Dense(1, input_dim=5, activation='sigmoid'))\n",
    "cnnModel.compile(loss='binary_crossentropy',\n",
    "              optimizer='rmsprop',\n",
    "              metrics=['accuracy'])"
   ]
  },
  {
   "cell_type": "code",
   "execution_count": 84,
   "metadata": {},
   "outputs": [
    {
     "name": "stdout",
     "output_type": "stream",
     "text": [
      "_________________________________________________________________\n",
      "Layer (type)                 Output Shape              Param #   \n",
      "=================================================================\n",
      "dense_15 (Dense)             (None, 1)                 501       \n",
      "_________________________________________________________________\n",
      "dense_16 (Dense)             (None, 1)                 2         \n",
      "_________________________________________________________________\n",
      "dense_17 (Dense)             (None, 1)                 2         \n",
      "=================================================================\n",
      "Total params: 505\n",
      "Trainable params: 505\n",
      "Non-trainable params: 0\n",
      "_________________________________________________________________\n"
     ]
    }
   ],
   "source": [
    "cnnModel.summary()"
   ]
  },
  {
   "cell_type": "code",
   "execution_count": 85,
   "metadata": {},
   "outputs": [
    {
     "name": "stdout",
     "output_type": "stream",
     "text": [
      "Train on 604 samples, validate on 152 samples\n",
      "Epoch 1/200\n",
      "604/604 [==============================] - 0s 731us/step - loss: 0.6788 - acc: 0.6093 - val_loss: 0.6821 - val_acc: 0.5789\n",
      "Epoch 2/200\n",
      "604/604 [==============================] - 0s 46us/step - loss: 0.6758 - acc: 0.6093 - val_loss: 0.6813 - val_acc: 0.5789\n",
      "Epoch 3/200\n",
      "604/604 [==============================] - 0s 57us/step - loss: 0.6743 - acc: 0.6093 - val_loss: 0.6805 - val_acc: 0.5789\n",
      "Epoch 4/200\n",
      "604/604 [==============================] - 0s 66us/step - loss: 0.6726 - acc: 0.6093 - val_loss: 0.6794 - val_acc: 0.5789\n",
      "Epoch 5/200\n",
      "604/604 [==============================] - 0s 77us/step - loss: 0.6708 - acc: 0.6093 - val_loss: 0.6785 - val_acc: 0.5789\n",
      "Epoch 6/200\n",
      "604/604 [==============================] - 0s 63us/step - loss: 0.6694 - acc: 0.6093 - val_loss: 0.6782 - val_acc: 0.5789\n",
      "Epoch 7/200\n",
      "604/604 [==============================] - 0s 61us/step - loss: 0.6677 - acc: 0.6093 - val_loss: 0.6783 - val_acc: 0.5789\n",
      "Epoch 8/200\n",
      "604/604 [==============================] - 0s 63us/step - loss: 0.6663 - acc: 0.6093 - val_loss: 0.6763 - val_acc: 0.5789\n",
      "Epoch 9/200\n",
      "604/604 [==============================] - 0s 62us/step - loss: 0.6649 - acc: 0.6093 - val_loss: 0.6763 - val_acc: 0.5789\n",
      "Epoch 10/200\n",
      "604/604 [==============================] - 0s 60us/step - loss: 0.6636 - acc: 0.6093 - val_loss: 0.6754 - val_acc: 0.5789\n",
      "Epoch 11/200\n",
      "604/604 [==============================] - 0s 72us/step - loss: 0.6624 - acc: 0.6093 - val_loss: 0.6747 - val_acc: 0.5789\n",
      "Epoch 12/200\n",
      "604/604 [==============================] - 0s 69us/step - loss: 0.6612 - acc: 0.6093 - val_loss: 0.6757 - val_acc: 0.5789\n",
      "Epoch 13/200\n",
      "604/604 [==============================] - 0s 62us/step - loss: 0.6602 - acc: 0.6093 - val_loss: 0.6738 - val_acc: 0.5789\n",
      "Epoch 14/200\n",
      "604/604 [==============================] - 0s 55us/step - loss: 0.6592 - acc: 0.6093 - val_loss: 0.6733 - val_acc: 0.5789\n",
      "Epoch 15/200\n",
      "604/604 [==============================] - 0s 60us/step - loss: 0.6581 - acc: 0.6093 - val_loss: 0.6731 - val_acc: 0.5789\n",
      "Epoch 16/200\n",
      "604/604 [==============================] - 0s 53us/step - loss: 0.6568 - acc: 0.6093 - val_loss: 0.6729 - val_acc: 0.5789\n",
      "Epoch 17/200\n",
      "604/604 [==============================] - 0s 56us/step - loss: 0.6558 - acc: 0.6093 - val_loss: 0.6732 - val_acc: 0.5789\n",
      "Epoch 18/200\n",
      "604/604 [==============================] - 0s 48us/step - loss: 0.6552 - acc: 0.6093 - val_loss: 0.6718 - val_acc: 0.5789\n",
      "Epoch 19/200\n",
      "604/604 [==============================] - 0s 55us/step - loss: 0.6537 - acc: 0.6093 - val_loss: 0.6715 - val_acc: 0.5789\n",
      "Epoch 20/200\n",
      "604/604 [==============================] - 0s 51us/step - loss: 0.6526 - acc: 0.6093 - val_loss: 0.6710 - val_acc: 0.5789\n",
      "Epoch 21/200\n",
      "604/604 [==============================] - 0s 51us/step - loss: 0.6516 - acc: 0.6093 - val_loss: 0.6709 - val_acc: 0.5789\n",
      "Epoch 22/200\n",
      "604/604 [==============================] - 0s 56us/step - loss: 0.6506 - acc: 0.6093 - val_loss: 0.6706 - val_acc: 0.5789\n",
      "Epoch 23/200\n",
      "604/604 [==============================] - 0s 58us/step - loss: 0.6494 - acc: 0.6093 - val_loss: 0.6697 - val_acc: 0.5789\n",
      "Epoch 24/200\n",
      "604/604 [==============================] - 0s 61us/step - loss: 0.6484 - acc: 0.6093 - val_loss: 0.6717 - val_acc: 0.5789\n",
      "Epoch 25/200\n",
      "604/604 [==============================] - 0s 55us/step - loss: 0.6473 - acc: 0.6093 - val_loss: 0.6690 - val_acc: 0.5789\n",
      "Epoch 26/200\n",
      "604/604 [==============================] - 0s 58us/step - loss: 0.6461 - acc: 0.6093 - val_loss: 0.6690 - val_acc: 0.5789\n",
      "Epoch 27/200\n",
      "604/604 [==============================] - 0s 61us/step - loss: 0.6450 - acc: 0.6093 - val_loss: 0.6695 - val_acc: 0.5789\n",
      "Epoch 28/200\n",
      "604/604 [==============================] - 0s 52us/step - loss: 0.6436 - acc: 0.6093 - val_loss: 0.6683 - val_acc: 0.5789\n",
      "Epoch 29/200\n",
      "604/604 [==============================] - 0s 45us/step - loss: 0.6426 - acc: 0.6093 - val_loss: 0.6687 - val_acc: 0.5789\n",
      "Epoch 30/200\n",
      "604/604 [==============================] - 0s 53us/step - loss: 0.6412 - acc: 0.6093 - val_loss: 0.6681 - val_acc: 0.5789\n",
      "Epoch 31/200\n",
      "604/604 [==============================] - 0s 46us/step - loss: 0.6401 - acc: 0.6093 - val_loss: 0.6669 - val_acc: 0.5789\n",
      "Epoch 32/200\n",
      "604/604 [==============================] - 0s 56us/step - loss: 0.6389 - acc: 0.6093 - val_loss: 0.6674 - val_acc: 0.5789\n",
      "Epoch 33/200\n",
      "604/604 [==============================] - 0s 62us/step - loss: 0.6371 - acc: 0.6093 - val_loss: 0.6667 - val_acc: 0.5789\n",
      "Epoch 34/200\n",
      "604/604 [==============================] - 0s 59us/step - loss: 0.6362 - acc: 0.6093 - val_loss: 0.6653 - val_acc: 0.5789\n",
      "Epoch 35/200\n",
      "604/604 [==============================] - 0s 55us/step - loss: 0.6347 - acc: 0.6093 - val_loss: 0.6650 - val_acc: 0.5789\n",
      "Epoch 36/200\n",
      "604/604 [==============================] - 0s 55us/step - loss: 0.6332 - acc: 0.6093 - val_loss: 0.6644 - val_acc: 0.5789\n",
      "Epoch 37/200\n",
      "604/604 [==============================] - 0s 59us/step - loss: 0.6317 - acc: 0.6093 - val_loss: 0.6638 - val_acc: 0.5789\n",
      "Epoch 38/200\n",
      "604/604 [==============================] - 0s 54us/step - loss: 0.6305 - acc: 0.6093 - val_loss: 0.6653 - val_acc: 0.5789\n",
      "Epoch 39/200\n",
      "604/604 [==============================] - 0s 81us/step - loss: 0.6291 - acc: 0.6093 - val_loss: 0.6647 - val_acc: 0.5789\n",
      "Epoch 40/200\n",
      "604/604 [==============================] - 0s 73us/step - loss: 0.6276 - acc: 0.6093 - val_loss: 0.6626 - val_acc: 0.5789\n",
      "Epoch 41/200\n",
      "604/604 [==============================] - 0s 52us/step - loss: 0.6261 - acc: 0.6093 - val_loss: 0.6655 - val_acc: 0.5789\n",
      "Epoch 42/200\n",
      "604/604 [==============================] - 0s 60us/step - loss: 0.6246 - acc: 0.6093 - val_loss: 0.6614 - val_acc: 0.5789\n",
      "Epoch 43/200\n",
      "604/604 [==============================] - 0s 61us/step - loss: 0.6228 - acc: 0.6093 - val_loss: 0.6610 - val_acc: 0.5789\n",
      "Epoch 44/200\n",
      "604/604 [==============================] - 0s 60us/step - loss: 0.6215 - acc: 0.6093 - val_loss: 0.6609 - val_acc: 0.5789\n",
      "Epoch 45/200\n",
      "604/604 [==============================] - 0s 61us/step - loss: 0.6194 - acc: 0.6093 - val_loss: 0.6595 - val_acc: 0.5789\n",
      "Epoch 46/200\n",
      "604/604 [==============================] - 0s 56us/step - loss: 0.6177 - acc: 0.6093 - val_loss: 0.6593 - val_acc: 0.5789\n",
      "Epoch 47/200\n",
      "604/604 [==============================] - 0s 79us/step - loss: 0.6157 - acc: 0.6093 - val_loss: 0.6584 - val_acc: 0.5789\n",
      "Epoch 48/200\n",
      "604/604 [==============================] - 0s 56us/step - loss: 0.6140 - acc: 0.6093 - val_loss: 0.6571 - val_acc: 0.5789\n",
      "Epoch 49/200\n",
      "604/604 [==============================] - 0s 49us/step - loss: 0.6125 - acc: 0.6093 - val_loss: 0.6568 - val_acc: 0.5789\n",
      "Epoch 50/200\n",
      "604/604 [==============================] - 0s 55us/step - loss: 0.6105 - acc: 0.6093 - val_loss: 0.6556 - val_acc: 0.5789\n",
      "Epoch 51/200\n",
      "604/604 [==============================] - 0s 55us/step - loss: 0.6084 - acc: 0.6093 - val_loss: 0.6571 - val_acc: 0.5789\n",
      "Epoch 52/200\n",
      "604/604 [==============================] - 0s 48us/step - loss: 0.6065 - acc: 0.6093 - val_loss: 0.6541 - val_acc: 0.5789\n",
      "Epoch 53/200\n",
      "604/604 [==============================] - ETA: 0s - loss: 0.6087 - acc: 0.600 - 0s 59us/step - loss: 0.6048 - acc: 0.6093 - val_loss: 0.6597 - val_acc: 0.5789\n",
      "Epoch 54/200\n",
      "604/604 [==============================] - 0s 53us/step - loss: 0.6026 - acc: 0.6093 - val_loss: 0.6524 - val_acc: 0.5789\n",
      "Epoch 55/200\n",
      "604/604 [==============================] - 0s 48us/step - loss: 0.5999 - acc: 0.6093 - val_loss: 0.6565 - val_acc: 0.5789\n",
      "Epoch 56/200\n",
      "604/604 [==============================] - 0s 57us/step - loss: 0.5981 - acc: 0.6093 - val_loss: 0.6532 - val_acc: 0.5789\n",
      "Epoch 57/200\n",
      "604/604 [==============================] - 0s 59us/step - loss: 0.5963 - acc: 0.6093 - val_loss: 0.6572 - val_acc: 0.5789\n",
      "Epoch 58/200\n",
      "604/604 [==============================] - 0s 63us/step - loss: 0.5943 - acc: 0.6093 - val_loss: 0.6575 - val_acc: 0.5789\n",
      "Epoch 59/200\n",
      "604/604 [==============================] - 0s 68us/step - loss: 0.5924 - acc: 0.6093 - val_loss: 0.6487 - val_acc: 0.5789\n",
      "Epoch 60/200\n",
      "604/604 [==============================] - 0s 69us/step - loss: 0.5897 - acc: 0.6093 - val_loss: 0.6476 - val_acc: 0.5789\n",
      "Epoch 61/200\n",
      "604/604 [==============================] - 0s 66us/step - loss: 0.5877 - acc: 0.6093 - val_loss: 0.6544 - val_acc: 0.5789\n",
      "Epoch 62/200\n",
      "604/604 [==============================] - 0s 60us/step - loss: 0.5856 - acc: 0.6093 - val_loss: 0.6514 - val_acc: 0.5789\n",
      "Epoch 63/200\n",
      "604/604 [==============================] - 0s 73us/step - loss: 0.5828 - acc: 0.6093 - val_loss: 0.6472 - val_acc: 0.5789\n",
      "Epoch 64/200\n",
      "604/604 [==============================] - 0s 66us/step - loss: 0.5804 - acc: 0.6093 - val_loss: 0.6474 - val_acc: 0.5789\n",
      "Epoch 65/200\n",
      "604/604 [==============================] - 0s 50us/step - loss: 0.5782 - acc: 0.6093 - val_loss: 0.6449 - val_acc: 0.5789\n",
      "Epoch 66/200\n",
      "604/604 [==============================] - 0s 66us/step - loss: 0.5756 - acc: 0.6093 - val_loss: 0.6427 - val_acc: 0.5789\n",
      "Epoch 67/200\n",
      "604/604 [==============================] - 0s 71us/step - loss: 0.5730 - acc: 0.6093 - val_loss: 0.6460 - val_acc: 0.5789\n",
      "Epoch 68/200\n",
      "604/604 [==============================] - 0s 76us/step - loss: 0.5706 - acc: 0.6093 - val_loss: 0.6403 - val_acc: 0.5789\n",
      "Epoch 69/200\n",
      "604/604 [==============================] - 0s 75us/step - loss: 0.5679 - acc: 0.6093 - val_loss: 0.6403 - val_acc: 0.5789\n",
      "Epoch 70/200\n",
      "604/604 [==============================] - 0s 78us/step - loss: 0.5650 - acc: 0.6093 - val_loss: 0.6492 - val_acc: 0.5789\n",
      "Epoch 71/200\n",
      "604/604 [==============================] - 0s 71us/step - loss: 0.5628 - acc: 0.6093 - val_loss: 0.6364 - val_acc: 0.5789\n",
      "Epoch 72/200\n",
      "604/604 [==============================] - 0s 66us/step - loss: 0.5601 - acc: 0.6093 - val_loss: 0.6415 - val_acc: 0.5789\n",
      "Epoch 73/200\n",
      "604/604 [==============================] - 0s 63us/step - loss: 0.5574 - acc: 0.6093 - val_loss: 0.6419 - val_acc: 0.5789\n",
      "Epoch 74/200\n",
      "604/604 [==============================] - 0s 75us/step - loss: 0.5549 - acc: 0.6093 - val_loss: 0.6330 - val_acc: 0.5789\n",
      "Epoch 75/200\n",
      "604/604 [==============================] - 0s 68us/step - loss: 0.5521 - acc: 0.6093 - val_loss: 0.6436 - val_acc: 0.5789\n",
      "Epoch 76/200\n",
      "604/604 [==============================] - 0s 62us/step - loss: 0.5503 - acc: 0.6093 - val_loss: 0.6307 - val_acc: 0.5789\n",
      "Epoch 77/200\n",
      "604/604 [==============================] - 0s 63us/step - loss: 0.5469 - acc: 0.6093 - val_loss: 0.6350 - val_acc: 0.5789\n",
      "Epoch 78/200\n",
      "604/604 [==============================] - 0s 123us/step - loss: 0.5439 - acc: 0.6093 - val_loss: 0.6280 - val_acc: 0.5789\n",
      "Epoch 79/200\n",
      "604/604 [==============================] - 0s 57us/step - loss: 0.5415 - acc: 0.6093 - val_loss: 0.6344 - val_acc: 0.5789\n",
      "Epoch 80/200\n",
      "604/604 [==============================] - 0s 51us/step - loss: 0.5388 - acc: 0.6093 - val_loss: 0.6306 - val_acc: 0.5789\n",
      "Epoch 81/200\n",
      "604/604 [==============================] - 0s 50us/step - loss: 0.5357 - acc: 0.6093 - val_loss: 0.6255 - val_acc: 0.5789\n",
      "Epoch 82/200\n",
      "604/604 [==============================] - 0s 60us/step - loss: 0.5333 - acc: 0.6093 - val_loss: 0.6268 - val_acc: 0.5789\n",
      "Epoch 83/200\n",
      "604/604 [==============================] - 0s 48us/step - loss: 0.5300 - acc: 0.6093 - val_loss: 0.6220 - val_acc: 0.5789\n",
      "Epoch 84/200\n",
      "604/604 [==============================] - 0s 50us/step - loss: 0.5269 - acc: 0.6093 - val_loss: 0.6210 - val_acc: 0.5789\n",
      "Epoch 85/200\n",
      "604/604 [==============================] - 0s 58us/step - loss: 0.5240 - acc: 0.6093 - val_loss: 0.6202 - val_acc: 0.5789\n",
      "Epoch 86/200\n",
      "604/604 [==============================] - 0s 60us/step - loss: 0.5211 - acc: 0.6093 - val_loss: 0.6299 - val_acc: 0.5789\n",
      "Epoch 87/200\n",
      "604/604 [==============================] - 0s 50us/step - loss: 0.5180 - acc: 0.6093 - val_loss: 0.6240 - val_acc: 0.5789\n",
      "Epoch 88/200\n",
      "604/604 [==============================] - 0s 62us/step - loss: 0.5149 - acc: 0.6093 - val_loss: 0.6182 - val_acc: 0.5789\n",
      "Epoch 89/200\n",
      "604/604 [==============================] - 0s 57us/step - loss: 0.5121 - acc: 0.6093 - val_loss: 0.6147 - val_acc: 0.5789\n",
      "Epoch 90/200\n",
      "604/604 [==============================] - 0s 62us/step - loss: 0.5089 - acc: 0.6093 - val_loss: 0.6151 - val_acc: 0.5789\n",
      "Epoch 91/200\n",
      "604/604 [==============================] - 0s 77us/step - loss: 0.5063 - acc: 0.6093 - val_loss: 0.6136 - val_acc: 0.5789\n",
      "Epoch 92/200\n",
      "604/604 [==============================] - 0s 66us/step - loss: 0.5024 - acc: 0.6093 - val_loss: 0.6114 - val_acc: 0.5789\n",
      "Epoch 93/200\n",
      "604/604 [==============================] - 0s 48us/step - loss: 0.4996 - acc: 0.6093 - val_loss: 0.6076 - val_acc: 0.5789\n",
      "Epoch 94/200\n",
      "604/604 [==============================] - 0s 49us/step - loss: 0.4964 - acc: 0.6093 - val_loss: 0.6248 - val_acc: 0.5789\n",
      "Epoch 95/200\n",
      "604/604 [==============================] - 0s 56us/step - loss: 0.4935 - acc: 0.6093 - val_loss: 0.6055 - val_acc: 0.5789\n",
      "Epoch 96/200\n",
      "604/604 [==============================] - 0s 54us/step - loss: 0.4902 - acc: 0.6093 - val_loss: 0.6182 - val_acc: 0.5789\n",
      "Epoch 97/200\n",
      "604/604 [==============================] - 0s 56us/step - loss: 0.4875 - acc: 0.6093 - val_loss: 0.6060 - val_acc: 0.5789\n",
      "Epoch 98/200\n",
      "604/604 [==============================] - 0s 57us/step - loss: 0.4838 - acc: 0.6093 - val_loss: 0.6135 - val_acc: 0.5789\n",
      "Epoch 99/200\n",
      "604/604 [==============================] - 0s 60us/step - loss: 0.4807 - acc: 0.6093 - val_loss: 0.6036 - val_acc: 0.5789\n",
      "Epoch 100/200\n",
      "604/604 [==============================] - 0s 55us/step - loss: 0.4776 - acc: 0.6093 - val_loss: 0.6016 - val_acc: 0.5789\n",
      "Epoch 101/200\n",
      "604/604 [==============================] - 0s 53us/step - loss: 0.4741 - acc: 0.6093 - val_loss: 0.6116 - val_acc: 0.5789\n",
      "Epoch 102/200\n",
      "604/604 [==============================] - 0s 54us/step - loss: 0.4710 - acc: 0.6093 - val_loss: 0.6035 - val_acc: 0.5789\n",
      "Epoch 103/200\n",
      "604/604 [==============================] - 0s 51us/step - loss: 0.4678 - acc: 0.6093 - val_loss: 0.5949 - val_acc: 0.5789\n",
      "Epoch 104/200\n",
      "604/604 [==============================] - 0s 63us/step - loss: 0.4646 - acc: 0.6258 - val_loss: 0.6002 - val_acc: 0.6908\n",
      "Epoch 105/200\n",
      "604/604 [==============================] - 0s 63us/step - loss: 0.4611 - acc: 0.7781 - val_loss: 0.5944 - val_acc: 0.7303\n",
      "Epoch 106/200\n",
      "604/604 [==============================] - 0s 55us/step - loss: 0.4579 - acc: 0.8825 - val_loss: 0.5914 - val_acc: 0.7368\n",
      "Epoch 107/200\n",
      "604/604 [==============================] - 0s 56us/step - loss: 0.4554 - acc: 0.9255 - val_loss: 0.5987 - val_acc: 0.7303\n",
      "Epoch 108/200\n",
      "604/604 [==============================] - 0s 52us/step - loss: 0.4517 - acc: 0.9421 - val_loss: 0.5932 - val_acc: 0.7303\n",
      "Epoch 109/200\n",
      "604/604 [==============================] - 0s 57us/step - loss: 0.4484 - acc: 0.9603 - val_loss: 0.5909 - val_acc: 0.7434\n",
      "Epoch 110/200\n",
      "604/604 [==============================] - 0s 63us/step - loss: 0.4454 - acc: 0.9719 - val_loss: 0.5897 - val_acc: 0.7434\n",
      "Epoch 111/200\n",
      "604/604 [==============================] - 0s 69us/step - loss: 0.4421 - acc: 0.9768 - val_loss: 0.5866 - val_acc: 0.7368\n",
      "Epoch 112/200\n",
      "604/604 [==============================] - 0s 79us/step - loss: 0.4389 - acc: 0.9768 - val_loss: 0.5949 - val_acc: 0.7303\n",
      "Epoch 113/200\n",
      "604/604 [==============================] - 0s 78us/step - loss: 0.4357 - acc: 0.9834 - val_loss: 0.5885 - val_acc: 0.7434\n",
      "Epoch 114/200\n",
      "604/604 [==============================] - 0s 82us/step - loss: 0.4330 - acc: 0.9785 - val_loss: 0.5947 - val_acc: 0.7303\n",
      "Epoch 115/200\n",
      "604/604 [==============================] - 0s 70us/step - loss: 0.4302 - acc: 0.9818 - val_loss: 0.5832 - val_acc: 0.7171\n",
      "Epoch 116/200\n",
      "604/604 [==============================] - 0s 72us/step - loss: 0.4266 - acc: 0.9851 - val_loss: 0.5809 - val_acc: 0.7566\n",
      "Epoch 117/200\n",
      "604/604 [==============================] - 0s 82us/step - loss: 0.4236 - acc: 0.9834 - val_loss: 0.5877 - val_acc: 0.7500\n",
      "Epoch 118/200\n",
      "604/604 [==============================] - 0s 79us/step - loss: 0.4206 - acc: 0.9851 - val_loss: 0.5907 - val_acc: 0.7434\n",
      "Epoch 119/200\n",
      "604/604 [==============================] - 0s 70us/step - loss: 0.4173 - acc: 0.9851 - val_loss: 0.5847 - val_acc: 0.7434\n",
      "Epoch 120/200\n",
      "604/604 [==============================] - 0s 62us/step - loss: 0.4144 - acc: 0.9851 - val_loss: 0.5780 - val_acc: 0.7434\n",
      "Epoch 121/200\n"
     ]
    },
    {
     "name": "stdout",
     "output_type": "stream",
     "text": [
      "604/604 [==============================] - 0s 62us/step - loss: 0.4113 - acc: 0.9851 - val_loss: 0.5831 - val_acc: 0.7434\n",
      "Epoch 122/200\n",
      "604/604 [==============================] - 0s 52us/step - loss: 0.4081 - acc: 0.9851 - val_loss: 0.5865 - val_acc: 0.7500\n",
      "Epoch 123/200\n",
      "604/604 [==============================] - 0s 53us/step - loss: 0.4053 - acc: 0.9851 - val_loss: 0.5898 - val_acc: 0.7500\n",
      "Epoch 124/200\n",
      "604/604 [==============================] - 0s 61us/step - loss: 0.4023 - acc: 0.9851 - val_loss: 0.5890 - val_acc: 0.7500\n",
      "Epoch 125/200\n",
      "604/604 [==============================] - 0s 56us/step - loss: 0.3991 - acc: 0.9851 - val_loss: 0.5736 - val_acc: 0.7500\n",
      "Epoch 126/200\n",
      "604/604 [==============================] - 0s 58us/step - loss: 0.3961 - acc: 0.9851 - val_loss: 0.5785 - val_acc: 0.7237\n",
      "Epoch 127/200\n",
      "604/604 [==============================] - 0s 57us/step - loss: 0.3929 - acc: 0.9851 - val_loss: 0.5766 - val_acc: 0.7303\n",
      "Epoch 128/200\n",
      "604/604 [==============================] - 0s 54us/step - loss: 0.3897 - acc: 0.9851 - val_loss: 0.5791 - val_acc: 0.7303\n",
      "Epoch 129/200\n",
      "604/604 [==============================] - 0s 52us/step - loss: 0.3866 - acc: 0.9851 - val_loss: 0.5864 - val_acc: 0.7500\n",
      "Epoch 130/200\n",
      "604/604 [==============================] - 0s 49us/step - loss: 0.3839 - acc: 0.9851 - val_loss: 0.5711 - val_acc: 0.7566\n",
      "Epoch 131/200\n",
      "604/604 [==============================] - 0s 61us/step - loss: 0.3807 - acc: 0.9851 - val_loss: 0.5701 - val_acc: 0.7566\n",
      "Epoch 132/200\n",
      "604/604 [==============================] - 0s 58us/step - loss: 0.3777 - acc: 0.9851 - val_loss: 0.5710 - val_acc: 0.7434\n",
      "Epoch 133/200\n",
      "604/604 [==============================] - 0s 51us/step - loss: 0.3747 - acc: 0.9851 - val_loss: 0.5850 - val_acc: 0.7500\n",
      "Epoch 134/200\n",
      "604/604 [==============================] - 0s 55us/step - loss: 0.3720 - acc: 0.9851 - val_loss: 0.5757 - val_acc: 0.7237\n",
      "Epoch 135/200\n",
      "604/604 [==============================] - 0s 53us/step - loss: 0.3692 - acc: 0.9851 - val_loss: 0.5706 - val_acc: 0.7500\n",
      "Epoch 136/200\n",
      "604/604 [==============================] - 0s 65us/step - loss: 0.3659 - acc: 0.9851 - val_loss: 0.5738 - val_acc: 0.7303\n",
      "Epoch 137/200\n",
      "604/604 [==============================] - 0s 52us/step - loss: 0.3634 - acc: 0.9851 - val_loss: 0.5673 - val_acc: 0.7566\n",
      "Epoch 138/200\n",
      "604/604 [==============================] - 0s 53us/step - loss: 0.3603 - acc: 0.9851 - val_loss: 0.5688 - val_acc: 0.7434\n",
      "Epoch 139/200\n",
      "604/604 [==============================] - 0s 72us/step - loss: 0.3576 - acc: 0.9851 - val_loss: 0.5737 - val_acc: 0.7368\n",
      "Epoch 140/200\n",
      "604/604 [==============================] - 0s 61us/step - loss: 0.3549 - acc: 0.9851 - val_loss: 0.5679 - val_acc: 0.7500\n",
      "Epoch 141/200\n",
      "604/604 [==============================] - 0s 47us/step - loss: 0.3518 - acc: 0.9851 - val_loss: 0.5696 - val_acc: 0.7368\n",
      "Epoch 142/200\n",
      "604/604 [==============================] - 0s 50us/step - loss: 0.3490 - acc: 0.9851 - val_loss: 0.5729 - val_acc: 0.7368\n",
      "Epoch 143/200\n",
      "604/604 [==============================] - 0s 58us/step - loss: 0.3460 - acc: 0.9851 - val_loss: 0.5650 - val_acc: 0.7500\n",
      "Epoch 144/200\n",
      "604/604 [==============================] - 0s 49us/step - loss: 0.3432 - acc: 0.9851 - val_loss: 0.5641 - val_acc: 0.7566\n",
      "Epoch 145/200\n",
      "604/604 [==============================] - 0s 53us/step - loss: 0.3405 - acc: 0.9851 - val_loss: 0.5628 - val_acc: 0.7500\n",
      "Epoch 146/200\n",
      "604/604 [==============================] - 0s 47us/step - loss: 0.3378 - acc: 0.9851 - val_loss: 0.5645 - val_acc: 0.7434\n",
      "Epoch 147/200\n",
      "604/604 [==============================] - 0s 48us/step - loss: 0.3349 - acc: 0.9851 - val_loss: 0.5619 - val_acc: 0.7566\n",
      "Epoch 148/200\n",
      "604/604 [==============================] - 0s 52us/step - loss: 0.3321 - acc: 0.9851 - val_loss: 0.5743 - val_acc: 0.7368\n",
      "Epoch 149/200\n",
      "604/604 [==============================] - 0s 44us/step - loss: 0.3297 - acc: 0.9851 - val_loss: 0.5611 - val_acc: 0.7368\n",
      "Epoch 150/200\n",
      "604/604 [==============================] - 0s 48us/step - loss: 0.3267 - acc: 0.9851 - val_loss: 0.5609 - val_acc: 0.7566\n",
      "Epoch 151/200\n",
      "604/604 [==============================] - 0s 45us/step - loss: 0.3242 - acc: 0.9851 - val_loss: 0.5601 - val_acc: 0.7368\n",
      "Epoch 152/200\n",
      "604/604 [==============================] - 0s 46us/step - loss: 0.3216 - acc: 0.9851 - val_loss: 0.5618 - val_acc: 0.7434\n",
      "Epoch 153/200\n",
      "604/604 [==============================] - 0s 49us/step - loss: 0.3185 - acc: 0.9868 - val_loss: 0.5606 - val_acc: 0.7500\n",
      "Epoch 154/200\n",
      "604/604 [==============================] - 0s 47us/step - loss: 0.3158 - acc: 0.9868 - val_loss: 0.5587 - val_acc: 0.7500\n",
      "Epoch 155/200\n",
      "604/604 [==============================] - 0s 45us/step - loss: 0.3126 - acc: 0.9868 - val_loss: 0.5599 - val_acc: 0.7566\n",
      "Epoch 156/200\n",
      "604/604 [==============================] - 0s 47us/step - loss: 0.3102 - acc: 0.9868 - val_loss: 0.5563 - val_acc: 0.7500\n",
      "Epoch 157/200\n",
      "604/604 [==============================] - 0s 48us/step - loss: 0.3075 - acc: 0.9868 - val_loss: 0.5549 - val_acc: 0.7566\n",
      "Epoch 158/200\n",
      "604/604 [==============================] - 0s 53us/step - loss: 0.3048 - acc: 0.9868 - val_loss: 0.5608 - val_acc: 0.7566\n",
      "Epoch 159/200\n",
      "604/604 [==============================] - 0s 49us/step - loss: 0.3022 - acc: 0.9868 - val_loss: 0.5538 - val_acc: 0.7434\n",
      "Epoch 160/200\n",
      "604/604 [==============================] - 0s 55us/step - loss: 0.2996 - acc: 0.9868 - val_loss: 0.5540 - val_acc: 0.7566\n",
      "Epoch 161/200\n",
      "604/604 [==============================] - 0s 46us/step - loss: 0.2968 - acc: 0.9868 - val_loss: 0.5606 - val_acc: 0.7566\n",
      "Epoch 162/200\n",
      "604/604 [==============================] - 0s 48us/step - loss: 0.2946 - acc: 0.9868 - val_loss: 0.5538 - val_acc: 0.7434\n",
      "Epoch 163/200\n",
      "604/604 [==============================] - 0s 58us/step - loss: 0.2921 - acc: 0.9868 - val_loss: 0.5565 - val_acc: 0.7566\n",
      "Epoch 164/200\n",
      "604/604 [==============================] - 0s 53us/step - loss: 0.2896 - acc: 0.9868 - val_loss: 0.5680 - val_acc: 0.7434\n",
      "Epoch 165/200\n",
      "604/604 [==============================] - 0s 56us/step - loss: 0.2871 - acc: 0.9868 - val_loss: 0.5527 - val_acc: 0.7566\n",
      "Epoch 166/200\n",
      "604/604 [==============================] - 0s 56us/step - loss: 0.2846 - acc: 0.9868 - val_loss: 0.5563 - val_acc: 0.7566\n",
      "Epoch 167/200\n",
      "604/604 [==============================] - 0s 47us/step - loss: 0.2822 - acc: 0.9868 - val_loss: 0.5580 - val_acc: 0.7566\n",
      "Epoch 168/200\n",
      "604/604 [==============================] - 0s 48us/step - loss: 0.2798 - acc: 0.9868 - val_loss: 0.5571 - val_acc: 0.7566\n",
      "Epoch 169/200\n",
      "604/604 [==============================] - 0s 49us/step - loss: 0.2772 - acc: 0.9868 - val_loss: 0.5532 - val_acc: 0.7434\n",
      "Epoch 170/200\n",
      "604/604 [==============================] - 0s 47us/step - loss: 0.2749 - acc: 0.9868 - val_loss: 0.5535 - val_acc: 0.7500\n",
      "Epoch 171/200\n",
      "604/604 [==============================] - 0s 45us/step - loss: 0.2725 - acc: 0.9868 - val_loss: 0.5538 - val_acc: 0.7500\n",
      "Epoch 172/200\n",
      "604/604 [==============================] - 0s 49us/step - loss: 0.2701 - acc: 0.9868 - val_loss: 0.5587 - val_acc: 0.7566\n",
      "Epoch 173/200\n",
      "604/604 [==============================] - 0s 49us/step - loss: 0.2680 - acc: 0.9868 - val_loss: 0.5557 - val_acc: 0.7500\n",
      "Epoch 174/200\n",
      "604/604 [==============================] - 0s 52us/step - loss: 0.2656 - acc: 0.9868 - val_loss: 0.5557 - val_acc: 0.7500\n",
      "Epoch 175/200\n",
      "604/604 [==============================] - 0s 46us/step - loss: 0.2633 - acc: 0.9868 - val_loss: 0.5630 - val_acc: 0.7566\n",
      "Epoch 176/200\n",
      "604/604 [==============================] - 0s 47us/step - loss: 0.2609 - acc: 0.9868 - val_loss: 0.5654 - val_acc: 0.7500\n",
      "Epoch 177/200\n",
      "604/604 [==============================] - 0s 47us/step - loss: 0.2589 - acc: 0.9868 - val_loss: 0.5565 - val_acc: 0.7500\n",
      "Epoch 178/200\n",
      "604/604 [==============================] - 0s 46us/step - loss: 0.2566 - acc: 0.9868 - val_loss: 0.5545 - val_acc: 0.7434\n",
      "Epoch 179/200\n",
      "604/604 [==============================] - 0s 48us/step - loss: 0.2542 - acc: 0.9868 - val_loss: 0.5582 - val_acc: 0.7566\n",
      "Epoch 180/200\n",
      "604/604 [==============================] - 0s 49us/step - loss: 0.2520 - acc: 0.9868 - val_loss: 0.5553 - val_acc: 0.7434\n",
      "Epoch 181/200\n",
      "604/604 [==============================] - 0s 45us/step - loss: 0.2498 - acc: 0.9868 - val_loss: 0.5622 - val_acc: 0.7632\n",
      "Epoch 182/200\n",
      "604/604 [==============================] - 0s 46us/step - loss: 0.2476 - acc: 0.9868 - val_loss: 0.5649 - val_acc: 0.7566\n",
      "Epoch 183/200\n",
      "604/604 [==============================] - 0s 67us/step - loss: 0.2455 - acc: 0.9868 - val_loss: 0.5560 - val_acc: 0.7434\n",
      "Epoch 184/200\n",
      "604/604 [==============================] - 0s 83us/step - loss: 0.2434 - acc: 0.9868 - val_loss: 0.5586 - val_acc: 0.7632\n",
      "Epoch 185/200\n",
      "604/604 [==============================] - 0s 66us/step - loss: 0.2414 - acc: 0.9868 - val_loss: 0.5676 - val_acc: 0.7500\n",
      "Epoch 186/200\n",
      "604/604 [==============================] - 0s 63us/step - loss: 0.2393 - acc: 0.9868 - val_loss: 0.5589 - val_acc: 0.7632\n",
      "Epoch 187/200\n",
      "604/604 [==============================] - 0s 51us/step - loss: 0.2372 - acc: 0.9868 - val_loss: 0.5678 - val_acc: 0.7500\n",
      "Epoch 188/200\n",
      "604/604 [==============================] - 0s 59us/step - loss: 0.2352 - acc: 0.9868 - val_loss: 0.5564 - val_acc: 0.7500\n",
      "Epoch 189/200\n",
      "604/604 [==============================] - 0s 72us/step - loss: 0.2331 - acc: 0.9868 - val_loss: 0.5572 - val_acc: 0.7368\n",
      "Epoch 190/200\n",
      "604/604 [==============================] - 0s 58us/step - loss: 0.2312 - acc: 0.9868 - val_loss: 0.5586 - val_acc: 0.7500\n",
      "Epoch 191/200\n",
      "604/604 [==============================] - 0s 55us/step - loss: 0.2291 - acc: 0.9868 - val_loss: 0.5639 - val_acc: 0.7632\n",
      "Epoch 192/200\n",
      "604/604 [==============================] - 0s 60us/step - loss: 0.2271 - acc: 0.9868 - val_loss: 0.5588 - val_acc: 0.7434\n",
      "Epoch 193/200\n",
      "604/604 [==============================] - 0s 60us/step - loss: 0.2251 - acc: 0.9868 - val_loss: 0.5628 - val_acc: 0.7632\n",
      "Epoch 194/200\n",
      "604/604 [==============================] - 0s 52us/step - loss: 0.2233 - acc: 0.9868 - val_loss: 0.5610 - val_acc: 0.7434\n",
      "Epoch 195/200\n",
      "604/604 [==============================] - 0s 49us/step - loss: 0.2213 - acc: 0.9868 - val_loss: 0.5611 - val_acc: 0.7434\n",
      "Epoch 196/200\n",
      "604/604 [==============================] - 0s 89us/step - loss: 0.2193 - acc: 0.9868 - val_loss: 0.5615 - val_acc: 0.7434\n",
      "Epoch 197/200\n",
      "604/604 [==============================] - 0s 56us/step - loss: 0.2174 - acc: 0.9868 - val_loss: 0.5672 - val_acc: 0.7632\n",
      "Epoch 198/200\n",
      "604/604 [==============================] - 0s 48us/step - loss: 0.2155 - acc: 0.9868 - val_loss: 0.5712 - val_acc: 0.7500\n",
      "Epoch 199/200\n",
      "604/604 [==============================] - 0s 53us/step - loss: 0.2138 - acc: 0.9868 - val_loss: 0.5642 - val_acc: 0.7632\n",
      "Epoch 200/200\n",
      "604/604 [==============================] - 0s 47us/step - loss: 0.2119 - acc: 0.9868 - val_loss: 0.5684 - val_acc: 0.7632\n"
     ]
    },
    {
     "data": {
      "text/plain": [
       "<keras.callbacks.History at 0x1a2ebdf3c8>"
      ]
     },
     "execution_count": 85,
     "metadata": {},
     "output_type": "execute_result"
    }
   ],
   "source": [
    "cnnModel.fit(arrayTrainFeatures, arrayTrainLabels,\n",
    "              validation_split=0.2,\n",
    "              batch_size=batch_size,\n",
    "              nb_epoch=nb_epoch,\n",
    "              shuffle=True)"
   ]
  },
  {
   "cell_type": "code",
   "execution_count": 86,
   "metadata": {},
   "outputs": [],
   "source": [
    "cnnPred = np.round(cnnModel.predict(arrayTestFeatures))"
   ]
  },
  {
   "cell_type": "code",
   "execution_count": null,
   "metadata": {},
   "outputs": [],
   "source": []
  },
  {
   "cell_type": "markdown",
   "metadata": {
    "collapsed": true
   },
   "source": [
    "### Conclusion\n",
    "1. models reached average cross validation accuracy of 0.88 and AUC > 0.95, which is not bad for biological data with limited samples\n",
    "2. diverse model ensemble with diverse models only slightly improved accuracy, perhaps because different models all picked same strong predictors hence adding different modele together did not improve performance\n",
    "3. neural network is not a best perfomer in this case, perhaps more training data are needed"
   ]
  },
  {
   "cell_type": "code",
   "execution_count": null,
   "metadata": {},
   "outputs": [],
   "source": []
  }
 ],
 "metadata": {
  "anaconda-cloud": {},
  "kernelspec": {
   "display_name": "Python 3",
   "language": "python",
   "name": "python3"
  },
  "language_info": {
   "codemirror_mode": {
    "name": "ipython",
    "version": 3
   },
   "file_extension": ".py",
   "mimetype": "text/x-python",
   "name": "python",
   "nbconvert_exporter": "python",
   "pygments_lexer": "ipython3",
   "version": "3.7.1"
  }
 },
 "nbformat": 4,
 "nbformat_minor": 1
}
